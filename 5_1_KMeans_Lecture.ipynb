{
  "nbformat": 4,
  "nbformat_minor": 0,
  "metadata": {
    "kernelspec": {
      "display_name": "Python 3",
      "language": "python",
      "name": "python3"
    },
    "language_info": {
      "codemirror_mode": {
        "name": "ipython",
        "version": 3
      },
      "file_extension": ".py",
      "mimetype": "text/x-python",
      "name": "python",
      "nbconvert_exporter": "python",
      "pygments_lexer": "ipython3",
      "version": "3.8.5"
    },
    "colab": {
      "provenance": [],
      "toc_visible": true,
      "include_colab_link": true
    },
    "widgets": {
      "application/vnd.jupyter.widget-state+json": {
        "70db970803234dbf9eff6c94800baf79": {
          "model_module": "@jupyter-widgets/controls",
          "model_name": "HBoxModel",
          "model_module_version": "1.5.0",
          "state": {
            "_dom_classes": [],
            "_model_module": "@jupyter-widgets/controls",
            "_model_module_version": "1.5.0",
            "_model_name": "HBoxModel",
            "_view_count": null,
            "_view_module": "@jupyter-widgets/controls",
            "_view_module_version": "1.5.0",
            "_view_name": "HBoxView",
            "box_style": "",
            "children": [
              "IPY_MODEL_7d73ba3d97d5430fba52ecf9f6d2d23b",
              "IPY_MODEL_1ec2260b97804268a5c31c2bad134d8c",
              "IPY_MODEL_11c089f79d5d4bbd91182ccd2f278120"
            ],
            "layout": "IPY_MODEL_84ca6890f8464242b698e45a06383222"
          }
        },
        "7d73ba3d97d5430fba52ecf9f6d2d23b": {
          "model_module": "@jupyter-widgets/controls",
          "model_name": "HTMLModel",
          "model_module_version": "1.5.0",
          "state": {
            "_dom_classes": [],
            "_model_module": "@jupyter-widgets/controls",
            "_model_module_version": "1.5.0",
            "_model_name": "HTMLModel",
            "_view_count": null,
            "_view_module": "@jupyter-widgets/controls",
            "_view_module_version": "1.5.0",
            "_view_name": "HTMLView",
            "description": "",
            "description_tooltip": null,
            "layout": "IPY_MODEL_d216ec9fe207485698a09e13187cc438",
            "placeholder": "​",
            "style": "IPY_MODEL_6b57c2c25f8f4d279294af7d947a309a",
            "value": "  2%"
          }
        },
        "1ec2260b97804268a5c31c2bad134d8c": {
          "model_module": "@jupyter-widgets/controls",
          "model_name": "FloatProgressModel",
          "model_module_version": "1.5.0",
          "state": {
            "_dom_classes": [],
            "_model_module": "@jupyter-widgets/controls",
            "_model_module_version": "1.5.0",
            "_model_name": "FloatProgressModel",
            "_view_count": null,
            "_view_module": "@jupyter-widgets/controls",
            "_view_module_version": "1.5.0",
            "_view_name": "ProgressView",
            "bar_style": "danger",
            "description": "",
            "description_tooltip": null,
            "layout": "IPY_MODEL_4cb65be96f324663b9879ee2a99ce93e",
            "max": 100,
            "min": 0,
            "orientation": "horizontal",
            "style": "IPY_MODEL_39ed6abb1de1498c8bc46f573201fef0",
            "value": 2
          }
        },
        "11c089f79d5d4bbd91182ccd2f278120": {
          "model_module": "@jupyter-widgets/controls",
          "model_name": "HTMLModel",
          "model_module_version": "1.5.0",
          "state": {
            "_dom_classes": [],
            "_model_module": "@jupyter-widgets/controls",
            "_model_module_version": "1.5.0",
            "_model_name": "HTMLModel",
            "_view_count": null,
            "_view_module": "@jupyter-widgets/controls",
            "_view_module_version": "1.5.0",
            "_view_name": "HTMLView",
            "description": "",
            "description_tooltip": null,
            "layout": "IPY_MODEL_1394a4fa6f544159b0a35456d6a222bb",
            "placeholder": "​",
            "style": "IPY_MODEL_c21429bddc3c44a59c84e43db6931b69",
            "value": " 2/100 [00:00&lt;00:01, 76.61it/s]"
          }
        },
        "84ca6890f8464242b698e45a06383222": {
          "model_module": "@jupyter-widgets/base",
          "model_name": "LayoutModel",
          "model_module_version": "1.2.0",
          "state": {
            "_model_module": "@jupyter-widgets/base",
            "_model_module_version": "1.2.0",
            "_model_name": "LayoutModel",
            "_view_count": null,
            "_view_module": "@jupyter-widgets/base",
            "_view_module_version": "1.2.0",
            "_view_name": "LayoutView",
            "align_content": null,
            "align_items": null,
            "align_self": null,
            "border": null,
            "bottom": null,
            "display": null,
            "flex": null,
            "flex_flow": null,
            "grid_area": null,
            "grid_auto_columns": null,
            "grid_auto_flow": null,
            "grid_auto_rows": null,
            "grid_column": null,
            "grid_gap": null,
            "grid_row": null,
            "grid_template_areas": null,
            "grid_template_columns": null,
            "grid_template_rows": null,
            "height": null,
            "justify_content": null,
            "justify_items": null,
            "left": null,
            "margin": null,
            "max_height": null,
            "max_width": null,
            "min_height": null,
            "min_width": null,
            "object_fit": null,
            "object_position": null,
            "order": null,
            "overflow": null,
            "overflow_x": null,
            "overflow_y": null,
            "padding": null,
            "right": null,
            "top": null,
            "visibility": null,
            "width": null
          }
        },
        "d216ec9fe207485698a09e13187cc438": {
          "model_module": "@jupyter-widgets/base",
          "model_name": "LayoutModel",
          "model_module_version": "1.2.0",
          "state": {
            "_model_module": "@jupyter-widgets/base",
            "_model_module_version": "1.2.0",
            "_model_name": "LayoutModel",
            "_view_count": null,
            "_view_module": "@jupyter-widgets/base",
            "_view_module_version": "1.2.0",
            "_view_name": "LayoutView",
            "align_content": null,
            "align_items": null,
            "align_self": null,
            "border": null,
            "bottom": null,
            "display": null,
            "flex": null,
            "flex_flow": null,
            "grid_area": null,
            "grid_auto_columns": null,
            "grid_auto_flow": null,
            "grid_auto_rows": null,
            "grid_column": null,
            "grid_gap": null,
            "grid_row": null,
            "grid_template_areas": null,
            "grid_template_columns": null,
            "grid_template_rows": null,
            "height": null,
            "justify_content": null,
            "justify_items": null,
            "left": null,
            "margin": null,
            "max_height": null,
            "max_width": null,
            "min_height": null,
            "min_width": null,
            "object_fit": null,
            "object_position": null,
            "order": null,
            "overflow": null,
            "overflow_x": null,
            "overflow_y": null,
            "padding": null,
            "right": null,
            "top": null,
            "visibility": null,
            "width": null
          }
        },
        "6b57c2c25f8f4d279294af7d947a309a": {
          "model_module": "@jupyter-widgets/controls",
          "model_name": "DescriptionStyleModel",
          "model_module_version": "1.5.0",
          "state": {
            "_model_module": "@jupyter-widgets/controls",
            "_model_module_version": "1.5.0",
            "_model_name": "DescriptionStyleModel",
            "_view_count": null,
            "_view_module": "@jupyter-widgets/base",
            "_view_module_version": "1.2.0",
            "_view_name": "StyleView",
            "description_width": ""
          }
        },
        "4cb65be96f324663b9879ee2a99ce93e": {
          "model_module": "@jupyter-widgets/base",
          "model_name": "LayoutModel",
          "model_module_version": "1.2.0",
          "state": {
            "_model_module": "@jupyter-widgets/base",
            "_model_module_version": "1.2.0",
            "_model_name": "LayoutModel",
            "_view_count": null,
            "_view_module": "@jupyter-widgets/base",
            "_view_module_version": "1.2.0",
            "_view_name": "LayoutView",
            "align_content": null,
            "align_items": null,
            "align_self": null,
            "border": null,
            "bottom": null,
            "display": null,
            "flex": null,
            "flex_flow": null,
            "grid_area": null,
            "grid_auto_columns": null,
            "grid_auto_flow": null,
            "grid_auto_rows": null,
            "grid_column": null,
            "grid_gap": null,
            "grid_row": null,
            "grid_template_areas": null,
            "grid_template_columns": null,
            "grid_template_rows": null,
            "height": null,
            "justify_content": null,
            "justify_items": null,
            "left": null,
            "margin": null,
            "max_height": null,
            "max_width": null,
            "min_height": null,
            "min_width": null,
            "object_fit": null,
            "object_position": null,
            "order": null,
            "overflow": null,
            "overflow_x": null,
            "overflow_y": null,
            "padding": null,
            "right": null,
            "top": null,
            "visibility": null,
            "width": null
          }
        },
        "39ed6abb1de1498c8bc46f573201fef0": {
          "model_module": "@jupyter-widgets/controls",
          "model_name": "ProgressStyleModel",
          "model_module_version": "1.5.0",
          "state": {
            "_model_module": "@jupyter-widgets/controls",
            "_model_module_version": "1.5.0",
            "_model_name": "ProgressStyleModel",
            "_view_count": null,
            "_view_module": "@jupyter-widgets/base",
            "_view_module_version": "1.2.0",
            "_view_name": "StyleView",
            "bar_color": null,
            "description_width": ""
          }
        },
        "1394a4fa6f544159b0a35456d6a222bb": {
          "model_module": "@jupyter-widgets/base",
          "model_name": "LayoutModel",
          "model_module_version": "1.2.0",
          "state": {
            "_model_module": "@jupyter-widgets/base",
            "_model_module_version": "1.2.0",
            "_model_name": "LayoutModel",
            "_view_count": null,
            "_view_module": "@jupyter-widgets/base",
            "_view_module_version": "1.2.0",
            "_view_name": "LayoutView",
            "align_content": null,
            "align_items": null,
            "align_self": null,
            "border": null,
            "bottom": null,
            "display": null,
            "flex": null,
            "flex_flow": null,
            "grid_area": null,
            "grid_auto_columns": null,
            "grid_auto_flow": null,
            "grid_auto_rows": null,
            "grid_column": null,
            "grid_gap": null,
            "grid_row": null,
            "grid_template_areas": null,
            "grid_template_columns": null,
            "grid_template_rows": null,
            "height": null,
            "justify_content": null,
            "justify_items": null,
            "left": null,
            "margin": null,
            "max_height": null,
            "max_width": null,
            "min_height": null,
            "min_width": null,
            "object_fit": null,
            "object_position": null,
            "order": null,
            "overflow": null,
            "overflow_x": null,
            "overflow_y": null,
            "padding": null,
            "right": null,
            "top": null,
            "visibility": null,
            "width": null
          }
        },
        "c21429bddc3c44a59c84e43db6931b69": {
          "model_module": "@jupyter-widgets/controls",
          "model_name": "DescriptionStyleModel",
          "model_module_version": "1.5.0",
          "state": {
            "_model_module": "@jupyter-widgets/controls",
            "_model_module_version": "1.5.0",
            "_model_name": "DescriptionStyleModel",
            "_view_count": null,
            "_view_module": "@jupyter-widgets/base",
            "_view_module_version": "1.2.0",
            "_view_name": "StyleView",
            "description_width": ""
          }
        },
        "de9a6b42d01041e1bc7d70379ca417ff": {
          "model_module": "@jupyter-widgets/controls",
          "model_name": "HBoxModel",
          "model_module_version": "1.5.0",
          "state": {
            "_dom_classes": [],
            "_model_module": "@jupyter-widgets/controls",
            "_model_module_version": "1.5.0",
            "_model_name": "HBoxModel",
            "_view_count": null,
            "_view_module": "@jupyter-widgets/controls",
            "_view_module_version": "1.5.0",
            "_view_name": "HBoxView",
            "box_style": "",
            "children": [
              "IPY_MODEL_7de2b255ff954709b288a5838139e7f4",
              "IPY_MODEL_dba56c41cce94f439e537cbc47f6a60c",
              "IPY_MODEL_7d210ad19e0045048abc38bcf9328343"
            ],
            "layout": "IPY_MODEL_3ab97edc486f4d189bf7092e860418d1"
          }
        },
        "7de2b255ff954709b288a5838139e7f4": {
          "model_module": "@jupyter-widgets/controls",
          "model_name": "HTMLModel",
          "model_module_version": "1.5.0",
          "state": {
            "_dom_classes": [],
            "_model_module": "@jupyter-widgets/controls",
            "_model_module_version": "1.5.0",
            "_model_name": "HTMLModel",
            "_view_count": null,
            "_view_module": "@jupyter-widgets/controls",
            "_view_module_version": "1.5.0",
            "_view_name": "HTMLView",
            "description": "",
            "description_tooltip": null,
            "layout": "IPY_MODEL_bf488dca479f4470a1562bfa4c686bfd",
            "placeholder": "​",
            "style": "IPY_MODEL_573ee5243e124ace890bbe4cbd138519",
            "value": "  7%"
          }
        },
        "dba56c41cce94f439e537cbc47f6a60c": {
          "model_module": "@jupyter-widgets/controls",
          "model_name": "FloatProgressModel",
          "model_module_version": "1.5.0",
          "state": {
            "_dom_classes": [],
            "_model_module": "@jupyter-widgets/controls",
            "_model_module_version": "1.5.0",
            "_model_name": "FloatProgressModel",
            "_view_count": null,
            "_view_module": "@jupyter-widgets/controls",
            "_view_module_version": "1.5.0",
            "_view_name": "ProgressView",
            "bar_style": "danger",
            "description": "",
            "description_tooltip": null,
            "layout": "IPY_MODEL_899078a78de74ee5a6169646ba74dc10",
            "max": 100,
            "min": 0,
            "orientation": "horizontal",
            "style": "IPY_MODEL_2daceefd37ee451cb8101ba5f8a8c947",
            "value": 7
          }
        },
        "7d210ad19e0045048abc38bcf9328343": {
          "model_module": "@jupyter-widgets/controls",
          "model_name": "HTMLModel",
          "model_module_version": "1.5.0",
          "state": {
            "_dom_classes": [],
            "_model_module": "@jupyter-widgets/controls",
            "_model_module_version": "1.5.0",
            "_model_name": "HTMLModel",
            "_view_count": null,
            "_view_module": "@jupyter-widgets/controls",
            "_view_module_version": "1.5.0",
            "_view_name": "HTMLView",
            "description": "",
            "description_tooltip": null,
            "layout": "IPY_MODEL_ef65bcfd1d98463fa98eca1cc6c49048",
            "placeholder": "​",
            "style": "IPY_MODEL_29f718628b414169992ef8e937167a73",
            "value": " 7/100 [00:00&lt;00:00, 116.81it/s]"
          }
        },
        "3ab97edc486f4d189bf7092e860418d1": {
          "model_module": "@jupyter-widgets/base",
          "model_name": "LayoutModel",
          "model_module_version": "1.2.0",
          "state": {
            "_model_module": "@jupyter-widgets/base",
            "_model_module_version": "1.2.0",
            "_model_name": "LayoutModel",
            "_view_count": null,
            "_view_module": "@jupyter-widgets/base",
            "_view_module_version": "1.2.0",
            "_view_name": "LayoutView",
            "align_content": null,
            "align_items": null,
            "align_self": null,
            "border": null,
            "bottom": null,
            "display": null,
            "flex": null,
            "flex_flow": null,
            "grid_area": null,
            "grid_auto_columns": null,
            "grid_auto_flow": null,
            "grid_auto_rows": null,
            "grid_column": null,
            "grid_gap": null,
            "grid_row": null,
            "grid_template_areas": null,
            "grid_template_columns": null,
            "grid_template_rows": null,
            "height": null,
            "justify_content": null,
            "justify_items": null,
            "left": null,
            "margin": null,
            "max_height": null,
            "max_width": null,
            "min_height": null,
            "min_width": null,
            "object_fit": null,
            "object_position": null,
            "order": null,
            "overflow": null,
            "overflow_x": null,
            "overflow_y": null,
            "padding": null,
            "right": null,
            "top": null,
            "visibility": null,
            "width": null
          }
        },
        "bf488dca479f4470a1562bfa4c686bfd": {
          "model_module": "@jupyter-widgets/base",
          "model_name": "LayoutModel",
          "model_module_version": "1.2.0",
          "state": {
            "_model_module": "@jupyter-widgets/base",
            "_model_module_version": "1.2.0",
            "_model_name": "LayoutModel",
            "_view_count": null,
            "_view_module": "@jupyter-widgets/base",
            "_view_module_version": "1.2.0",
            "_view_name": "LayoutView",
            "align_content": null,
            "align_items": null,
            "align_self": null,
            "border": null,
            "bottom": null,
            "display": null,
            "flex": null,
            "flex_flow": null,
            "grid_area": null,
            "grid_auto_columns": null,
            "grid_auto_flow": null,
            "grid_auto_rows": null,
            "grid_column": null,
            "grid_gap": null,
            "grid_row": null,
            "grid_template_areas": null,
            "grid_template_columns": null,
            "grid_template_rows": null,
            "height": null,
            "justify_content": null,
            "justify_items": null,
            "left": null,
            "margin": null,
            "max_height": null,
            "max_width": null,
            "min_height": null,
            "min_width": null,
            "object_fit": null,
            "object_position": null,
            "order": null,
            "overflow": null,
            "overflow_x": null,
            "overflow_y": null,
            "padding": null,
            "right": null,
            "top": null,
            "visibility": null,
            "width": null
          }
        },
        "573ee5243e124ace890bbe4cbd138519": {
          "model_module": "@jupyter-widgets/controls",
          "model_name": "DescriptionStyleModel",
          "model_module_version": "1.5.0",
          "state": {
            "_model_module": "@jupyter-widgets/controls",
            "_model_module_version": "1.5.0",
            "_model_name": "DescriptionStyleModel",
            "_view_count": null,
            "_view_module": "@jupyter-widgets/base",
            "_view_module_version": "1.2.0",
            "_view_name": "StyleView",
            "description_width": ""
          }
        },
        "899078a78de74ee5a6169646ba74dc10": {
          "model_module": "@jupyter-widgets/base",
          "model_name": "LayoutModel",
          "model_module_version": "1.2.0",
          "state": {
            "_model_module": "@jupyter-widgets/base",
            "_model_module_version": "1.2.0",
            "_model_name": "LayoutModel",
            "_view_count": null,
            "_view_module": "@jupyter-widgets/base",
            "_view_module_version": "1.2.0",
            "_view_name": "LayoutView",
            "align_content": null,
            "align_items": null,
            "align_self": null,
            "border": null,
            "bottom": null,
            "display": null,
            "flex": null,
            "flex_flow": null,
            "grid_area": null,
            "grid_auto_columns": null,
            "grid_auto_flow": null,
            "grid_auto_rows": null,
            "grid_column": null,
            "grid_gap": null,
            "grid_row": null,
            "grid_template_areas": null,
            "grid_template_columns": null,
            "grid_template_rows": null,
            "height": null,
            "justify_content": null,
            "justify_items": null,
            "left": null,
            "margin": null,
            "max_height": null,
            "max_width": null,
            "min_height": null,
            "min_width": null,
            "object_fit": null,
            "object_position": null,
            "order": null,
            "overflow": null,
            "overflow_x": null,
            "overflow_y": null,
            "padding": null,
            "right": null,
            "top": null,
            "visibility": null,
            "width": null
          }
        },
        "2daceefd37ee451cb8101ba5f8a8c947": {
          "model_module": "@jupyter-widgets/controls",
          "model_name": "ProgressStyleModel",
          "model_module_version": "1.5.0",
          "state": {
            "_model_module": "@jupyter-widgets/controls",
            "_model_module_version": "1.5.0",
            "_model_name": "ProgressStyleModel",
            "_view_count": null,
            "_view_module": "@jupyter-widgets/base",
            "_view_module_version": "1.2.0",
            "_view_name": "StyleView",
            "bar_color": null,
            "description_width": ""
          }
        },
        "ef65bcfd1d98463fa98eca1cc6c49048": {
          "model_module": "@jupyter-widgets/base",
          "model_name": "LayoutModel",
          "model_module_version": "1.2.0",
          "state": {
            "_model_module": "@jupyter-widgets/base",
            "_model_module_version": "1.2.0",
            "_model_name": "LayoutModel",
            "_view_count": null,
            "_view_module": "@jupyter-widgets/base",
            "_view_module_version": "1.2.0",
            "_view_name": "LayoutView",
            "align_content": null,
            "align_items": null,
            "align_self": null,
            "border": null,
            "bottom": null,
            "display": null,
            "flex": null,
            "flex_flow": null,
            "grid_area": null,
            "grid_auto_columns": null,
            "grid_auto_flow": null,
            "grid_auto_rows": null,
            "grid_column": null,
            "grid_gap": null,
            "grid_row": null,
            "grid_template_areas": null,
            "grid_template_columns": null,
            "grid_template_rows": null,
            "height": null,
            "justify_content": null,
            "justify_items": null,
            "left": null,
            "margin": null,
            "max_height": null,
            "max_width": null,
            "min_height": null,
            "min_width": null,
            "object_fit": null,
            "object_position": null,
            "order": null,
            "overflow": null,
            "overflow_x": null,
            "overflow_y": null,
            "padding": null,
            "right": null,
            "top": null,
            "visibility": null,
            "width": null
          }
        },
        "29f718628b414169992ef8e937167a73": {
          "model_module": "@jupyter-widgets/controls",
          "model_name": "DescriptionStyleModel",
          "model_module_version": "1.5.0",
          "state": {
            "_model_module": "@jupyter-widgets/controls",
            "_model_module_version": "1.5.0",
            "_model_name": "DescriptionStyleModel",
            "_view_count": null,
            "_view_module": "@jupyter-widgets/base",
            "_view_module_version": "1.2.0",
            "_view_name": "StyleView",
            "description_width": ""
          }
        },
        "5f85b21cfb8543698e5f434a5cd70223": {
          "model_module": "@jupyter-widgets/controls",
          "model_name": "HBoxModel",
          "model_module_version": "1.5.0",
          "state": {
            "_dom_classes": [],
            "_model_module": "@jupyter-widgets/controls",
            "_model_module_version": "1.5.0",
            "_model_name": "HBoxModel",
            "_view_count": null,
            "_view_module": "@jupyter-widgets/controls",
            "_view_module_version": "1.5.0",
            "_view_name": "HBoxView",
            "box_style": "",
            "children": [
              "IPY_MODEL_9b20438ffb9b41998b7e77c646fddc33",
              "IPY_MODEL_781cd07c29834f6dacf93261d8b00199",
              "IPY_MODEL_bd57170130374b889c29140f2651a532"
            ],
            "layout": "IPY_MODEL_e5f9048e444d4c778ef4ac6ce97bf275"
          }
        },
        "9b20438ffb9b41998b7e77c646fddc33": {
          "model_module": "@jupyter-widgets/controls",
          "model_name": "HTMLModel",
          "model_module_version": "1.5.0",
          "state": {
            "_dom_classes": [],
            "_model_module": "@jupyter-widgets/controls",
            "_model_module_version": "1.5.0",
            "_model_name": "HTMLModel",
            "_view_count": null,
            "_view_module": "@jupyter-widgets/controls",
            "_view_module_version": "1.5.0",
            "_view_name": "HTMLView",
            "description": "",
            "description_tooltip": null,
            "layout": "IPY_MODEL_91b1216d105a4c64871ceb2bcc80ccf5",
            "placeholder": "​",
            "style": "IPY_MODEL_d6ccf8ba14ec420ea2356bc8346c1e0d",
            "value": "100%"
          }
        },
        "781cd07c29834f6dacf93261d8b00199": {
          "model_module": "@jupyter-widgets/controls",
          "model_name": "FloatProgressModel",
          "model_module_version": "1.5.0",
          "state": {
            "_dom_classes": [],
            "_model_module": "@jupyter-widgets/controls",
            "_model_module_version": "1.5.0",
            "_model_name": "FloatProgressModel",
            "_view_count": null,
            "_view_module": "@jupyter-widgets/controls",
            "_view_module_version": "1.5.0",
            "_view_name": "ProgressView",
            "bar_style": "success",
            "description": "",
            "description_tooltip": null,
            "layout": "IPY_MODEL_138395c45236485da93d20f568971630",
            "max": 10,
            "min": 0,
            "orientation": "horizontal",
            "style": "IPY_MODEL_dd4dee2f29e54272804a9c8fad8b7318",
            "value": 10
          }
        },
        "bd57170130374b889c29140f2651a532": {
          "model_module": "@jupyter-widgets/controls",
          "model_name": "HTMLModel",
          "model_module_version": "1.5.0",
          "state": {
            "_dom_classes": [],
            "_model_module": "@jupyter-widgets/controls",
            "_model_module_version": "1.5.0",
            "_model_name": "HTMLModel",
            "_view_count": null,
            "_view_module": "@jupyter-widgets/controls",
            "_view_module_version": "1.5.0",
            "_view_name": "HTMLView",
            "description": "",
            "description_tooltip": null,
            "layout": "IPY_MODEL_e299d918f0024ec2ac76ead75c6d2c92",
            "placeholder": "​",
            "style": "IPY_MODEL_0893c37563bb4fa5846f3966b7e5384d",
            "value": " 10/10 [00:13&lt;00:00,  1.31s/it]"
          }
        },
        "e5f9048e444d4c778ef4ac6ce97bf275": {
          "model_module": "@jupyter-widgets/base",
          "model_name": "LayoutModel",
          "model_module_version": "1.2.0",
          "state": {
            "_model_module": "@jupyter-widgets/base",
            "_model_module_version": "1.2.0",
            "_model_name": "LayoutModel",
            "_view_count": null,
            "_view_module": "@jupyter-widgets/base",
            "_view_module_version": "1.2.0",
            "_view_name": "LayoutView",
            "align_content": null,
            "align_items": null,
            "align_self": null,
            "border": null,
            "bottom": null,
            "display": null,
            "flex": null,
            "flex_flow": null,
            "grid_area": null,
            "grid_auto_columns": null,
            "grid_auto_flow": null,
            "grid_auto_rows": null,
            "grid_column": null,
            "grid_gap": null,
            "grid_row": null,
            "grid_template_areas": null,
            "grid_template_columns": null,
            "grid_template_rows": null,
            "height": null,
            "justify_content": null,
            "justify_items": null,
            "left": null,
            "margin": null,
            "max_height": null,
            "max_width": null,
            "min_height": null,
            "min_width": null,
            "object_fit": null,
            "object_position": null,
            "order": null,
            "overflow": null,
            "overflow_x": null,
            "overflow_y": null,
            "padding": null,
            "right": null,
            "top": null,
            "visibility": null,
            "width": null
          }
        },
        "91b1216d105a4c64871ceb2bcc80ccf5": {
          "model_module": "@jupyter-widgets/base",
          "model_name": "LayoutModel",
          "model_module_version": "1.2.0",
          "state": {
            "_model_module": "@jupyter-widgets/base",
            "_model_module_version": "1.2.0",
            "_model_name": "LayoutModel",
            "_view_count": null,
            "_view_module": "@jupyter-widgets/base",
            "_view_module_version": "1.2.0",
            "_view_name": "LayoutView",
            "align_content": null,
            "align_items": null,
            "align_self": null,
            "border": null,
            "bottom": null,
            "display": null,
            "flex": null,
            "flex_flow": null,
            "grid_area": null,
            "grid_auto_columns": null,
            "grid_auto_flow": null,
            "grid_auto_rows": null,
            "grid_column": null,
            "grid_gap": null,
            "grid_row": null,
            "grid_template_areas": null,
            "grid_template_columns": null,
            "grid_template_rows": null,
            "height": null,
            "justify_content": null,
            "justify_items": null,
            "left": null,
            "margin": null,
            "max_height": null,
            "max_width": null,
            "min_height": null,
            "min_width": null,
            "object_fit": null,
            "object_position": null,
            "order": null,
            "overflow": null,
            "overflow_x": null,
            "overflow_y": null,
            "padding": null,
            "right": null,
            "top": null,
            "visibility": null,
            "width": null
          }
        },
        "d6ccf8ba14ec420ea2356bc8346c1e0d": {
          "model_module": "@jupyter-widgets/controls",
          "model_name": "DescriptionStyleModel",
          "model_module_version": "1.5.0",
          "state": {
            "_model_module": "@jupyter-widgets/controls",
            "_model_module_version": "1.5.0",
            "_model_name": "DescriptionStyleModel",
            "_view_count": null,
            "_view_module": "@jupyter-widgets/base",
            "_view_module_version": "1.2.0",
            "_view_name": "StyleView",
            "description_width": ""
          }
        },
        "138395c45236485da93d20f568971630": {
          "model_module": "@jupyter-widgets/base",
          "model_name": "LayoutModel",
          "model_module_version": "1.2.0",
          "state": {
            "_model_module": "@jupyter-widgets/base",
            "_model_module_version": "1.2.0",
            "_model_name": "LayoutModel",
            "_view_count": null,
            "_view_module": "@jupyter-widgets/base",
            "_view_module_version": "1.2.0",
            "_view_name": "LayoutView",
            "align_content": null,
            "align_items": null,
            "align_self": null,
            "border": null,
            "bottom": null,
            "display": null,
            "flex": null,
            "flex_flow": null,
            "grid_area": null,
            "grid_auto_columns": null,
            "grid_auto_flow": null,
            "grid_auto_rows": null,
            "grid_column": null,
            "grid_gap": null,
            "grid_row": null,
            "grid_template_areas": null,
            "grid_template_columns": null,
            "grid_template_rows": null,
            "height": null,
            "justify_content": null,
            "justify_items": null,
            "left": null,
            "margin": null,
            "max_height": null,
            "max_width": null,
            "min_height": null,
            "min_width": null,
            "object_fit": null,
            "object_position": null,
            "order": null,
            "overflow": null,
            "overflow_x": null,
            "overflow_y": null,
            "padding": null,
            "right": null,
            "top": null,
            "visibility": null,
            "width": null
          }
        },
        "dd4dee2f29e54272804a9c8fad8b7318": {
          "model_module": "@jupyter-widgets/controls",
          "model_name": "ProgressStyleModel",
          "model_module_version": "1.5.0",
          "state": {
            "_model_module": "@jupyter-widgets/controls",
            "_model_module_version": "1.5.0",
            "_model_name": "ProgressStyleModel",
            "_view_count": null,
            "_view_module": "@jupyter-widgets/base",
            "_view_module_version": "1.2.0",
            "_view_name": "StyleView",
            "bar_color": null,
            "description_width": ""
          }
        },
        "e299d918f0024ec2ac76ead75c6d2c92": {
          "model_module": "@jupyter-widgets/base",
          "model_name": "LayoutModel",
          "model_module_version": "1.2.0",
          "state": {
            "_model_module": "@jupyter-widgets/base",
            "_model_module_version": "1.2.0",
            "_model_name": "LayoutModel",
            "_view_count": null,
            "_view_module": "@jupyter-widgets/base",
            "_view_module_version": "1.2.0",
            "_view_name": "LayoutView",
            "align_content": null,
            "align_items": null,
            "align_self": null,
            "border": null,
            "bottom": null,
            "display": null,
            "flex": null,
            "flex_flow": null,
            "grid_area": null,
            "grid_auto_columns": null,
            "grid_auto_flow": null,
            "grid_auto_rows": null,
            "grid_column": null,
            "grid_gap": null,
            "grid_row": null,
            "grid_template_areas": null,
            "grid_template_columns": null,
            "grid_template_rows": null,
            "height": null,
            "justify_content": null,
            "justify_items": null,
            "left": null,
            "margin": null,
            "max_height": null,
            "max_width": null,
            "min_height": null,
            "min_width": null,
            "object_fit": null,
            "object_position": null,
            "order": null,
            "overflow": null,
            "overflow_x": null,
            "overflow_y": null,
            "padding": null,
            "right": null,
            "top": null,
            "visibility": null,
            "width": null
          }
        },
        "0893c37563bb4fa5846f3966b7e5384d": {
          "model_module": "@jupyter-widgets/controls",
          "model_name": "DescriptionStyleModel",
          "model_module_version": "1.5.0",
          "state": {
            "_model_module": "@jupyter-widgets/controls",
            "_model_module_version": "1.5.0",
            "_model_name": "DescriptionStyleModel",
            "_view_count": null,
            "_view_module": "@jupyter-widgets/base",
            "_view_module_version": "1.2.0",
            "_view_name": "StyleView",
            "description_width": ""
          }
        }
      }
    }
  },
  "cells": [
    {
      "cell_type": "markdown",
      "metadata": {
        "id": "view-in-github",
        "colab_type": "text"
      },
      "source": [
        "<a href=\"https://colab.research.google.com/github/adamd1985/Lectures_On_MLAI/blob/main/5_1_KMeans_Lecture.ipynb\" target=\"_parent\"><img src=\"https://colab.research.google.com/assets/colab-badge.svg\" alt=\"Open In Colab\"/></a>"
      ]
    },
    {
      "cell_type": "markdown",
      "metadata": {
        "id": "HI6h2Au6wTRM"
      },
      "source": [
        "# K-Means Clustering\n",
        "\n",
        "K-means clustering partitions $ N $ data points into $ K $ clusters such that any point is assigned to the cluster with the closest center, or centroid."
      ]
    },
    {
      "cell_type": "code",
      "metadata": {
        "id": "FmhbQ0mCwTRN"
      },
      "source": [
        "import numpy as np\n",
        "import matplotlib.pyplot as plt\n",
        "import warnings\n",
        "from tqdm.notebook import tqdm\n",
        "warnings.filterwarnings('ignore')"
      ],
      "execution_count": 66,
      "outputs": []
    },
    {
      "cell_type": "markdown",
      "source": [
        "# Distance Functions in Clustering\n",
        "\n",
        "Clustering algorithms rely on distance functions to measure the similarity or dissimilarity between data points. The choice of distance function significantly impacts the structure of the resulting clusters. Below are the distance functions referenced in the provided sources."
      ],
      "metadata": {
        "id": "vSn0k8wjcPbL"
      }
    },
    {
      "cell_type": "markdown",
      "source": [
        "## Euclidean Distance\n",
        "\n",
        "Euclidean distance is the most commonly used metric in clustering, measuring the straight-line distance between two points in a multi-dimensional space:\n",
        "\n",
        "$$\n",
        "d(x_i, x_j) = \\sqrt{\\sum_{n=1}^{D} (x_{i,n} - x_{j,n})^2}\n",
        "$$\n",
        "\n",
        "where:\n",
        "- $ x_i $ and $ x_j $ are two points in a $ D $-dimensional space.\n",
        "- The function computes the sum of squared differences between corresponding coordinates."
      ],
      "metadata": {
        "id": "tZAcm8Lbvcv5"
      }
    },
    {
      "cell_type": "code",
      "source": [
        "\n",
        "def euclidean_distance(x, y):\n",
        "    return np.sqrt(np.sum((x - y) ** 2))\n",
        "\n",
        "x = np.array([1, 2, 3])\n",
        "y = np.array([4, 5, 6])\n",
        "\n",
        "print(\"Euclidean Distance:\", euclidean_distance(x, y))\n"
      ],
      "metadata": {
        "colab": {
          "base_uri": "https://localhost:8080/"
        },
        "id": "PIiRmIBE3dWo",
        "outputId": "b16c9deb-1b25-4991-f519-177ecf7fe6d2"
      },
      "execution_count": 67,
      "outputs": [
        {
          "output_type": "stream",
          "name": "stdout",
          "text": [
            "Euclidean Distance: 5.196152422706632\n"
          ]
        }
      ]
    },
    {
      "cell_type": "markdown",
      "source": [
        "## Cosine Similarity\n",
        "\n",
        "Cosine similarity measures the cosine of the angle between two vectors. It evaluates their directional similarity rather than their magnitude:\n",
        "\n",
        "$$\n",
        "\\text{sim}(x_i, x_j) = \\frac{\\sum_{n=1}^{D} x_{i,n} x_{j,n}}{\\sqrt{\\sum_{n=1}^{D} x_{i,n}^2} \\cdot \\sqrt{\\sum_{n=1}^{D} x_{j,n}^2}}\n",
        "$$\n",
        "\n",
        "This measure is widely used in text mining and document clustering, where vector magnitudes may not be as significant as their orientation.\n",
        "\n",
        "To convert cosine similarity into a distance metric:\n",
        "\n",
        "$$\n",
        "d(x_i, x_j) = 1 - \\text{sim}(x_i, x_j)\n",
        "$$\n",
        "\n",
        "This transformation ensures a higher distance corresponds to greater dissimilarity."
      ],
      "metadata": {
        "id": "LHQjzklpvqMR"
      }
    },
    {
      "cell_type": "code",
      "source": [
        "def cosine_similarity(x, y):\n",
        "    dot_product = np.dot(x, y)\n",
        "    magnitude_x = np.sqrt(np.sum(x ** 2))\n",
        "    magnitude_y = np.sqrt(np.sum(y ** 2))\n",
        "    return dot_product / (magnitude_x * magnitude_y)\n",
        "\n",
        "\n",
        "print(\"Cosine Similarity:\", cosine_similarity(x, y))"
      ],
      "metadata": {
        "colab": {
          "base_uri": "https://localhost:8080/"
        },
        "id": "IHNywDeB3f9L",
        "outputId": "b6e6ae2b-0495-427b-b516-9dc43ce73a2d"
      },
      "execution_count": 68,
      "outputs": [
        {
          "output_type": "stream",
          "name": "stdout",
          "text": [
            "Cosine Similarity: 0.9746318461970762\n"
          ]
        }
      ]
    },
    {
      "cell_type": "markdown",
      "source": [
        "## Manhattan Distance\n",
        "\n",
        "Manhattan distance, also known as the taxicab or city-block distance, measures the sum of absolute differences between corresponding coordinates:\n",
        "\n",
        "$$\n",
        "d(x_i, x_j) = \\sum_{n=1}^{D} |x_{i,n} - x_{j,n}|\n",
        "$$\n",
        "\n",
        "This metric is particularly useful in grid-based data structures where movement is restricted to horizontal and vertical paths."
      ],
      "metadata": {
        "id": "0OKXRkL_vhU6"
      }
    },
    {
      "cell_type": "code",
      "source": [
        "def manhattan_distance(x, y):\n",
        "    return np.sum(np.abs(x - y))\n",
        "\n",
        "\n",
        "print(\"Manhattan Distance:\", manhattan_distance(x, y))"
      ],
      "metadata": {
        "colab": {
          "base_uri": "https://localhost:8080/"
        },
        "id": "DAmAQRGm3ixk",
        "outputId": "7c36e001-3c05-4a8f-f074-613fa2ea8064"
      },
      "execution_count": 69,
      "outputs": [
        {
          "output_type": "stream",
          "name": "stdout",
          "text": [
            "Manhattan Distance: 9\n"
          ]
        }
      ]
    },
    {
      "cell_type": "markdown",
      "source": [
        "## Jaccard Similarity\n",
        "\n",
        "Jaccard similarity is used to compare the similarity of two sets and is defined as:\n",
        "\n",
        "$$\n",
        "\\text{sim}(x_i, x_j) = \\frac{|x_i \\cap x_j|}{|x_i \\cup x_j|}\n",
        "$$\n",
        "\n",
        "This metric is useful when working with categorical or binary data, such as document similarity tasks."
      ],
      "metadata": {
        "id": "S74o8oQSvygt"
      }
    },
    {
      "cell_type": "code",
      "source": [
        "def jaccard_similarity(x, y):\n",
        "    intersection = np.sum(np.minimum(x, y))\n",
        "    union = np.sum(np.maximum(x, y))\n",
        "    return intersection / union if union != 0 else 0\n",
        "\n",
        "print(\"Jaccard Similarity:\", jaccard_similarity(x, y))"
      ],
      "metadata": {
        "colab": {
          "base_uri": "https://localhost:8080/"
        },
        "id": "cS5mshtW3lwm",
        "outputId": "a04547f2-5287-4271-cf61-a7136b089bd9"
      },
      "execution_count": 70,
      "outputs": [
        {
          "output_type": "stream",
          "name": "stdout",
          "text": [
            "Jaccard Similarity: 0.4\n"
          ]
        }
      ]
    },
    {
      "cell_type": "markdown",
      "source": [
        "## Minkowski Distance\n",
        "\n",
        "Minkowski distance generalizes both Euclidean and Manhattan distances. It is defined as:\n",
        "\n",
        "$$\n",
        "d(x_i, x_j) = \\left( \\sum_{n=1}^{D} |x_{i,n} - x_{j,n}|^p \\right)^{\\frac{1}{p}}\n",
        "$$\n",
        "\n",
        "where:\n",
        "- $ p = 1 $ results in Manhattan distance,\n",
        "- $ p = 2 $ results in Euclidean distance.\n",
        "\n",
        "By adjusting $ p $, one can control the sensitivity of the distance measurement."
      ],
      "metadata": {
        "id": "D1S6_FICv2Lb"
      }
    },
    {
      "cell_type": "code",
      "source": [
        "def minkowski_distance(x, y, p):\n",
        "    return np.sum(np.abs(x - y) ** p) ** (1 / p)\n",
        "\n",
        "print(\"Minkowski Distance (p=3):\", minkowski_distance(x, y, 3))"
      ],
      "metadata": {
        "colab": {
          "base_uri": "https://localhost:8080/"
        },
        "id": "1A0Kwtyh3ozf",
        "outputId": "5d5afb19-0a4e-4f6f-b859-26d5c729f2e7"
      },
      "execution_count": 71,
      "outputs": [
        {
          "output_type": "stream",
          "name": "stdout",
          "text": [
            "Minkowski Distance (p=3): 4.3267487109222245\n"
          ]
        }
      ]
    },
    {
      "cell_type": "markdown",
      "source": [
        "## Mahalanobis Distance\n",
        "\n",
        "Mahalanobis distance accounts for correlations between features and scales the distances accordingly:\n",
        "\n",
        "$$\n",
        "d(x_i, x_j) = \\sqrt{(x_i - x_j)^T S^{-1} (x_i - x_j)}\n",
        "$$\n",
        "\n",
        "where:\n",
        "- $ S $ is the covariance matrix of the dataset.\n",
        "- Unlike Euclidean distance, it accounts for the shape of the data distribution."
      ],
      "metadata": {
        "id": "TcdW3PY0v6Je"
      }
    },
    {
      "cell_type": "code",
      "source": [
        "def minkowski_distance(x, y, p):\n",
        "    return np.sum(np.abs(x - y) ** p) ** (1 / p)\n",
        "\n",
        "print(\"Minkowski Distance (p=3):\", minkowski_distance(x, y, 3))"
      ],
      "metadata": {
        "colab": {
          "base_uri": "https://localhost:8080/"
        },
        "id": "2YDYu3y83rh1",
        "outputId": "6dfccd5a-6b55-417f-a555-2d0f68c8cde4"
      },
      "execution_count": 72,
      "outputs": [
        {
          "output_type": "stream",
          "name": "stdout",
          "text": [
            "Minkowski Distance (p=3): 4.3267487109222245\n"
          ]
        }
      ]
    },
    {
      "cell_type": "markdown",
      "source": [
        "## Hamming Distance\n",
        "\n",
        "Hamming distance measures the number of positions at which two binary vectors differ:\n",
        "\n",
        "$$\n",
        "d(x_i, x_j) = \\sum_{n=1}^{D} \\mathbf{1}(x_{i,n} \\neq x_{j,n})\n",
        "$$\n",
        "\n",
        "where $ \\mathbf{1}(\\cdot) $ is an indicator function that returns 1 if the condition inside is true, otherwise 0.\n",
        "\n",
        "Hamming distance is primarily used in text processing, error detection, and binary feature comparisons.\n"
      ],
      "metadata": {
        "id": "1bqEz0VCvUEI"
      }
    },
    {
      "cell_type": "code",
      "source": [
        "def hamming_distance(x, y):\n",
        "    return np.sum(x != y)\n",
        "\n",
        "print(\"Hamming Distance:\", hamming_distance(x, y))"
      ],
      "metadata": {
        "colab": {
          "base_uri": "https://localhost:8080/"
        },
        "id": "CHYtEs1L3uP9",
        "outputId": "bef96e27-bc99-4b20-9cd5-df85da91e0a6"
      },
      "execution_count": 73,
      "outputs": [
        {
          "output_type": "stream",
          "name": "stdout",
          "text": [
            "Hamming Distance: 3\n"
          ]
        }
      ]
    },
    {
      "cell_type": "markdown",
      "source": [
        "# Algorithm"
      ],
      "metadata": {
        "id": "PU1TzOoM6pPi"
      }
    },
    {
      "cell_type": "markdown",
      "source": [
        "## Calculating Centroids\n",
        "\n",
        "K-Means clustering is an iterative algorithm that partitions a dataset into $ K $ clusters by minimizing the sum of squared distances between points and their assigned cluster centers. The algorithm follows an expectation-maximization framework, where the centroid update step plays a crucial role in refining the cluster assignments.\n",
        "\n",
        "\n",
        "Initially, the algorithm assigns each data point to the cluster whose centroid is closest based on a chosen distance metric, commonly the Euclidean distance\n",
        "\n",
        "After all points have been assigned to clusters, the centroids are updated by computing the mean of all points within each cluster:\n",
        "\n",
        "$$\n",
        "\\mu_k = \\frac{\\sum_{n=1}^{N} r_{nk} x_n}{\\sum_{n=1}^{N} r_{nk}}\n",
        "$$\n",
        "\n",
        "where $ r_{nk} $ is an indicator variable that equals 1 if $ x_n $ belongs to cluster $ k $  and 0 otherwise. This formula ensures that the new centroid is the arithmetic mean of all points assigned to the cluster.\n",
        "\n",
        "\n",
        "The assignment and update steps are repeated iteratively until the centroids stabilize, meaning their positions no longer change significantly. Convergence can be determined using various stopping criteria, such as:\n",
        "\n",
        "- No significant change in centroids between iterations.\n",
        "- A predefined maximum number of iterations is reached.\n",
        "- The reduction in clustering error is below a given threshold.\n",
        "\n"
      ],
      "metadata": {
        "id": "pG6QiKV330I-"
      }
    },
    {
      "cell_type": "code",
      "source": [
        "def calculate_centroids(data, labels, k):\n",
        "    centroids = np.zeros((k, data.shape[1]))\n",
        "    for i in range(k):\n",
        "        cluster_points = data[labels == i]\n",
        "        if len(cluster_points) > 0:\n",
        "            centroids[i] = np.mean(cluster_points, axis=0)\n",
        "    return centroids\n",
        "\n",
        "data = np.array([\n",
        "    [1, 2], [1, 3], [2, 2], [8, 7], [8, 8], [7, 7]\n",
        "])\n",
        "labels = np.array([0, 0, 0, 1, 1, 1])\n",
        "k = 2\n",
        "centroids = calculate_centroids(data, labels, k)\n",
        "print(\"Calculated Centroids:\\n\", centroids)\n"
      ],
      "metadata": {
        "colab": {
          "base_uri": "https://localhost:8080/"
        },
        "id": "zOaS6UB738Em",
        "outputId": "8e710c3e-b9e5-4c65-8dd8-00bee855ec90"
      },
      "execution_count": 74,
      "outputs": [
        {
          "output_type": "stream",
          "name": "stdout",
          "text": [
            "Calculated Centroids:\n",
            " [[1.33333333 2.33333333]\n",
            " [7.66666667 7.33333333]]\n"
          ]
        }
      ]
    },
    {
      "cell_type": "code",
      "source": [
        "def assign_clusters(data, centroids, distance_function=euclidean_distance):\n",
        "    labels = np.zeros(data.shape[0], dtype=int)\n",
        "    for i, point in enumerate(data):\n",
        "        distances = np.array([distance_function(point, centroid) for centroid in centroids])\n",
        "        labels[i] = np.argmin(distances)\n",
        "    return labels\n",
        "\n",
        "print(\"Assigned Clusters:\", assign_clusters(data, centroids))"
      ],
      "metadata": {
        "colab": {
          "base_uri": "https://localhost:8080/"
        },
        "id": "tZ0oHOjZ5TPP",
        "outputId": "9c20ab26-a801-4344-e3f2-ea46f2364c4d"
      },
      "execution_count": 75,
      "outputs": [
        {
          "output_type": "stream",
          "name": "stdout",
          "text": [
            "Assigned Clusters: [0 0 0 1 1 1]\n"
          ]
        }
      ]
    },
    {
      "cell_type": "markdown",
      "source": [
        "## Distortion Function\n",
        "\n",
        "K-Means clustering aims to minimize the total sum of squared Euclidean distances between data points and their assigned centroids. This is represented by the **distortion function**, also known as the **within-cluster sum of squares (WCSS)** or **inertia**.\n",
        "\n",
        "$$\n",
        "J = \\sum_{n=1}^{N} \\sum_{k=1}^{K} r_{nk} \\| x_n - \\mu_k \\|^2\n",
        "$$\n",
        "\n",
        "where:\n",
        "- $J$ is the objective function, representing the clustering error.\n",
        "- $N$ is the total number of data points.\n",
        "- $K$ is the number of clusters.\n",
        "- $x_n$ is the $n$-th data point.\n",
        "- $\\mu_k$ is the centroid of cluster $k$.\n",
        "- $r_{nk}$ is a binary indicator that equals $1$ if $x_n$ belongs to cluster $k$, otherwise $0$.\n",
        "\n"
      ],
      "metadata": {
        "id": "8RUNvJyF6mjm"
      }
    },
    {
      "cell_type": "code",
      "source": [
        "def distortion_function(data, centroids, labels, distance_function=euclidean_distance):\n",
        "    cost = 0\n",
        "    for i in range(len(data)):\n",
        "        cluster = labels[i]\n",
        "        cost += distance_function(data[i], centroids[cluster]) ** 2\n",
        "    return cost\n",
        "\n",
        "data = np.array([\n",
        "    [1, 2], [1, 3], [2, 2],\n",
        "    [8, 7], [8, 8], [7, 7]\n",
        "])\n",
        "labels = np.array([0, 0, 0, 1, 1, 1])\n",
        "centroids = np.array([\n",
        "    [1.33, 2.33],  # Mean of cluster 0\n",
        "    [7.67, 7.67]   # Mean of cluster 1\n",
        "])\n",
        "\n",
        "print(\"Distortion Function Value:\", distortion_function(data, centroids, labels))\n",
        "\n",
        "data_hd = np.array([\n",
        "    [2, 4, 6], [3, 5, 7], [4, 6, 8],\n",
        "    [10, 12, 14], [11, 13, 15], [12, 14, 16]\n",
        "])\n",
        "labels_hd = np.array([0, 0, 0, 1, 1, 1])\n",
        "centroids_hd = np.array([\n",
        "    [3, 5, 7],  # Mean of cluster 0\n",
        "    [11, 13, 15]  # Mean of cluster 1\n",
        "])\n",
        "\n",
        "print(\"Distortion Function Value (High-Dimensional Data):\", distortion_function(data_hd, centroids_hd, labels_hd))"
      ],
      "metadata": {
        "colab": {
          "base_uri": "https://localhost:8080/"
        },
        "id": "87Oy64U57EUU",
        "outputId": "45888c85-d7be-45cb-a0bc-09058c120dd6"
      },
      "execution_count": 76,
      "outputs": [
        {
          "output_type": "stream",
          "name": "stdout",
          "text": [
            "Distortion Function Value: 3.0067999999999997\n",
            "Distortion Function Value (High-Dimensional Data): 11.999999999999998\n"
          ]
        }
      ]
    },
    {
      "cell_type": "code",
      "source": [
        "def initialize_centroids(data, k):\n",
        "    np.random.seed(42)\n",
        "    return data[np.random.choice(data.shape[0], k, replace=False)]\n",
        "\n",
        "def kmeans(data, k, max_iters=100, tol=1e-4, log=True, distance_function=euclidean_distance):\n",
        "    centroids = initialize_centroids(data, k)\n",
        "    prev_centroids = np.zeros_like(centroids)\n",
        "\n",
        "    for _ in tqdm(range(max_iters), disable=not log):\n",
        "        labels = assign_clusters(data, centroids, distance_function)\n",
        "        centroids = calculate_centroids(data, labels, k)\n",
        "        cost = distortion_function(data, centroids, labels, distance_function)\n",
        "\n",
        "        if log:\n",
        "            print(f\"Iteration {_+1}, Distortion Function Value: {cost}\")\n",
        "\n",
        "        if np.linalg.norm(centroids - prev_centroids) < tol:\n",
        "            break\n",
        "\n",
        "        prev_centroids = centroids.copy()\n",
        "\n",
        "    return centroids, labels, cost\n",
        "\n",
        "data = np.array([\n",
        "    [1, 2], [1, 3], [2, 2], [8, 7], [8, 8], [7, 7]\n",
        "])\n",
        "k = 2\n",
        "\n",
        "final_centroids, cluster_labels, final_cost = kmeans(data, k)\n",
        "print(\"\\nFinal Centroids:\\n\", final_centroids)\n",
        "print(\"Cluster Assignments:\\n\", cluster_labels)\n",
        "print(\"Final Distortion Function Value:\", final_cost)"
      ],
      "metadata": {
        "colab": {
          "base_uri": "https://localhost:8080/",
          "height": 229,
          "referenced_widgets": [
            "70db970803234dbf9eff6c94800baf79",
            "7d73ba3d97d5430fba52ecf9f6d2d23b",
            "1ec2260b97804268a5c31c2bad134d8c",
            "11c089f79d5d4bbd91182ccd2f278120",
            "84ca6890f8464242b698e45a06383222",
            "d216ec9fe207485698a09e13187cc438",
            "6b57c2c25f8f4d279294af7d947a309a",
            "4cb65be96f324663b9879ee2a99ce93e",
            "39ed6abb1de1498c8bc46f573201fef0",
            "1394a4fa6f544159b0a35456d6a222bb",
            "c21429bddc3c44a59c84e43db6931b69"
          ]
        },
        "id": "iRA0YdVC50tp",
        "outputId": "16cf7310-f912-4d24-853e-d6223a18bd5d"
      },
      "execution_count": 77,
      "outputs": [
        {
          "output_type": "display_data",
          "data": {
            "text/plain": [
              "  0%|          | 0/100 [00:00<?, ?it/s]"
            ],
            "application/vnd.jupyter.widget-view+json": {
              "version_major": 2,
              "version_minor": 0,
              "model_id": "70db970803234dbf9eff6c94800baf79"
            }
          },
          "metadata": {}
        },
        {
          "output_type": "stream",
          "name": "stdout",
          "text": [
            "Iteration 1, Distortion Function Value: 49.25\n",
            "Iteration 2, Distortion Function Value: 2.666666666666667\n",
            "Iteration 3, Distortion Function Value: 2.666666666666667\n",
            "\n",
            "Final Centroids:\n",
            " [[1.33333333 2.33333333]\n",
            " [7.66666667 7.33333333]]\n",
            "Cluster Assignments:\n",
            " [0 0 0 1 1 1]\n",
            "Final Distortion Function Value: 2.666666666666667\n"
          ]
        }
      ]
    },
    {
      "cell_type": "markdown",
      "source": [
        "Test on Iris dataset."
      ],
      "metadata": {
        "id": "a8PlzfI77u9o"
      }
    },
    {
      "cell_type": "code",
      "source": [
        "import matplotlib.pyplot as plt\n",
        "from sklearn.model_selection import train_test_split\n",
        "from sklearn.datasets import load_iris\n",
        "\n",
        "iris = load_iris(as_frame=True)\n",
        "X, y = iris.data.values, iris.target.values\n",
        "\n",
        "markers = ['o', 's', 'D']\n",
        "flower_colors = ['blue', 'orange', 'green']\n",
        "\n",
        "plt.figure(figsize=(8, 6))\n",
        "for i in range(len(X)):\n",
        "    plt.scatter(X[i, 0], X[i, 1],\n",
        "                marker=markers[y[i]],\n",
        "                color=flower_colors[y[i]],\n",
        "                alpha=0.7)\n",
        "\n",
        "for i, name in enumerate(iris.target_names):\n",
        "    plt.scatter([], [], marker=markers[i], color=flower_colors[i], label=f\"{name}\")\n",
        "\n",
        "plt.xlabel('Sepal Length')\n",
        "plt.ylabel('Sepal Width')\n",
        "plt.title('Original Iris Dataset: Shapes = Flowers, Colors = True Labels')\n",
        "plt.legend()\n",
        "plt.show()"
      ],
      "metadata": {
        "colab": {
          "base_uri": "https://localhost:8080/",
          "height": 564
        },
        "id": "itGh5hGD7t4w",
        "outputId": "6cc9c496-ade5-4bab-8a38-eb2e3a2c9f3e"
      },
      "execution_count": 78,
      "outputs": [
        {
          "output_type": "display_data",
          "data": {
            "text/plain": [
              "<Figure size 800x600 with 1 Axes>"
            ],
            "image/png": "[encoded data removed]"
          },
          "metadata": {}
        }
      ]
    },
    {
      "cell_type": "code",
      "source": [
        "X_train, X_test, y_train, y_test = train_test_split(X, y, test_size=0.2, random_state=42)\n",
        "k = 3\n",
        "\n",
        "final_centroids, cluster_labels, final_cost = kmeans(X_train, k)\n",
        "full_labels = assign_clusters(X, final_centroids)"
      ],
      "metadata": {
        "colab": {
          "base_uri": "https://localhost:8080/",
          "height": 193,
          "referenced_widgets": [
            "de9a6b42d01041e1bc7d70379ca417ff",
            "7de2b255ff954709b288a5838139e7f4",
            "dba56c41cce94f439e537cbc47f6a60c",
            "7d210ad19e0045048abc38bcf9328343",
            "3ab97edc486f4d189bf7092e860418d1",
            "bf488dca479f4470a1562bfa4c686bfd",
            "573ee5243e124ace890bbe4cbd138519",
            "899078a78de74ee5a6169646ba74dc10",
            "2daceefd37ee451cb8101ba5f8a8c947",
            "ef65bcfd1d98463fa98eca1cc6c49048",
            "29f718628b414169992ef8e937167a73"
          ]
        },
        "id": "IIeaf7Fh7ucN",
        "outputId": "ff1c82c6-44c5-4b10-95e5-d710ed85bf10"
      },
      "execution_count": 79,
      "outputs": [
        {
          "output_type": "display_data",
          "data": {
            "text/plain": [
              "  0%|          | 0/100 [00:00<?, ?it/s]"
            ],
            "application/vnd.jupyter.widget-view+json": {
              "version_major": 2,
              "version_minor": 0,
              "model_id": "de9a6b42d01041e1bc7d70379ca417ff"
            }
          },
          "metadata": {}
        },
        {
          "output_type": "stream",
          "name": "stdout",
          "text": [
            "Iteration 1, Distortion Function Value: 94.10204101194219\n",
            "Iteration 2, Distortion Function Value: 68.83680513784464\n",
            "Iteration 3, Distortion Function Value: 65.67295971867009\n",
            "Iteration 4, Distortion Function Value: 65.49057205029013\n",
            "Iteration 5, Distortion Function Value: 65.38870833333335\n",
            "Iteration 6, Distortion Function Value: 65.08155000000002\n",
            "Iteration 7, Distortion Function Value: 64.88272836375931\n",
            "Iteration 8, Distortion Function Value: 64.88272836375931\n"
          ]
        }
      ]
    },
    {
      "cell_type": "markdown",
      "source": [
        "## Predicting Membership\n",
        "\n",
        "Once K-Means clustering is trained, we need a method to **assign new data points** to existing clusters. Unlike DBSCAN, K-Means relies on **centroids**, so prediction is straightforward: a new point is assigned to the **nearest centroid**.\n",
        "\n",
        "For a new data point $ x $, we compute its distance to all cluster centroids and assign it to the closest one.\n",
        "Given:\n",
        "- **Cluster centroids** $ C = \\{ c_1, c_2, ..., c_k \\} $\n",
        "- **New point** $ x $\n",
        "\n",
        "We find the closest centroid by computing the **Euclidean distance**:\n",
        "\n",
        "$$\n",
        "d(x, c_i) = \\sqrt{\\sum_{j=1}^{n} (x_j - c_{i,j})^2}\n",
        "$$\n",
        "\n",
        "The point is assigned to the cluster whose centroid has the **smallest distance**:\n",
        "\n",
        "$$\n",
        "\\text{Cluster}(x) = \\arg\\min_{i} d(x, c_i)\n",
        "$$\n"
      ],
      "metadata": {
        "id": "UV543ab9ZsDP"
      }
    },
    {
      "cell_type": "code",
      "source": [
        "from sklearn.metrics.pairwise import euclidean_distances\n",
        "\n",
        "def predict_kmeans(data, centroids):\n",
        "    distances = euclidean_distances(data, centroids)\n",
        "    return np.argmin(distances, axis=1)\n",
        "\n",
        "random_index = np.random.randint(len(iris.data.values))\n",
        "actual_point = iris.data.values[random_index]\n",
        "actual_label = iris.target.values[random_index]\n",
        "\n",
        "noisy_point = actual_point + np.random.normal(0, 0.1, size=actual_point.shape)\n",
        "predicted_cluster = predict_kmeans(noisy_point.reshape(1, -1), final_centroids)\n",
        "\n",
        "print(\"Original Data Point:\", actual_point)\n",
        "print(\"True Label:\", actual_label)\n",
        "print(\"Noisy Data Point:\", noisy_point)\n",
        "print(\"Predicted Cluster for Noisy Point:\", predicted_cluster)"
      ],
      "metadata": {
        "colab": {
          "base_uri": "https://localhost:8080/"
        },
        "id": "RUN4UAxHZuxi",
        "outputId": "bb403254-2d44-40aa-ca54-9216e04af3ac"
      },
      "execution_count": 80,
      "outputs": [
        {
          "output_type": "stream",
          "name": "stdout",
          "text": [
            "Original Data Point: [5.  3.5 1.3 0.3]\n",
            "True Label: 0\n",
            "Noisy Data Point: [4.91036648 3.48880122 1.44689413 0.18761017]\n",
            "Predicted Cluster for Noisy Point: [2]\n"
          ]
        }
      ]
    },
    {
      "cell_type": "markdown",
      "source": [
        "Visualize with plots"
      ],
      "metadata": {
        "id": "H-73BIdvdhLS"
      }
    },
    {
      "cell_type": "code",
      "source": [
        "cluster_colors = ['purple', 'cyan', 'yellow']\n",
        "plt.figure(figsize=(8, 6))\n",
        "for i in range(len(X)):\n",
        "    plt.scatter(X[i, 0], X[i, 1],\n",
        "                marker=markers[y[i]],\n",
        "                color=cluster_colors[full_labels[i]],\n",
        "                alpha=0.7)\n",
        "\n",
        "plt.scatter(final_centroids[:, 0], final_centroids[:, 1], c='red', marker='X', s=200, label=\"Centroids\")\n",
        "for i, name in enumerate(iris.target_names):\n",
        "    plt.scatter([], [], marker=markers[i], color='black', label=f\"{name}\")\n",
        "for i in range(k):\n",
        "    plt.scatter([], [], color=cluster_colors[i], marker='o', label=f\"Cluster {i}\")\n",
        "\n",
        "plt.xlabel('Sepal Length')\n",
        "plt.ylabel('Sepal Width')\n",
        "plt.title('K-Means Clustering on Iris')\n",
        "plt.legend()\n",
        "plt.show()"
      ],
      "metadata": {
        "colab": {
          "base_uri": "https://localhost:8080/",
          "height": 564
        },
        "id": "HOiOG0ca-9MP",
        "outputId": "291bfc7e-085e-4720-f85d-7254f30b3dda"
      },
      "execution_count": 81,
      "outputs": [
        {
          "output_type": "display_data",
          "data": {
            "text/plain": [
              "<Figure size 800x600 with 1 Axes>"
            ],
            "image/png": "[encoded data removed]"
          },
          "metadata": {}
        }
      ]
    },
    {
      "cell_type": "markdown",
      "source": [
        "# Elbow Method for Optimal K\n",
        "\n",
        "This is taken from the k-NN notebook you have previously studied. But as a reminder:\n",
        "\n",
        "Compute second derivative (discrete approximation) to find the curvature or elbow:\n",
        "\n",
        "\n",
        "First Derivative ($f'(k)$)\n",
        "- Measures the **rate of change** of the error function.\n",
        "- A **steep negative slope** means the error is **decreasing rapidly**.\n",
        "- A **flatter slope** means the reduction in error is **slowing down**.\n",
        "\n",
        "Second Derivative ($f''(k)$)\n",
        "- Measures the **curvature** of the error function.\n",
        "- A **high second derivative** indicates a **sharp change in slope**.\n",
        "- The **\"elbow\" point** occurs at the **maximum curvature**, where: $ f''(k) = \\max f''(k) $"
      ],
      "metadata": {
        "id": "L5gC5S6fA8Q7"
      }
    },
    {
      "cell_type": "code",
      "source": [
        "k_values = range(1, 21)\n",
        "num_runs = 10\n",
        "errors = np.zeros(len(k_values))\n",
        "\n",
        "for r in tqdm(range(num_runs)):\n",
        "    X_train, X_test, y_train, y_test = train_test_split(X, y, test_size=0.3, random_state=r)\n",
        "    for i, k in enumerate(k_values):\n",
        "        final_centroids, cluster_labels, final_cost = kmeans(X_train, k, log=False)\n",
        "        errors[i] += final_cost\n",
        "\n",
        "errors /= num_runs\n",
        "curvature = np.diff(errors, 2)  # Second derivative\n",
        "optimal_k = k_values[np.argmax(curvature) + 1]  # Elbow at max curvature\n",
        "print(f\"Optimal k found at: {optimal_k}\")\n",
        "\n",
        "plt.figure(figsize=(8, 5))\n",
        "plt.plot(k_values, errors, marker='o', linestyle='-', color='r', label=\"Average Distortion\")\n",
        "plt.axvline(optimal_k, linestyle=\"--\", color=\"black\", label=f\"Optimal k = {optimal_k}\")\n",
        "plt.xlabel(\"Number of Clusters (k)\")\n",
        "plt.ylabel(\"Distortion Function (Inertia)\")\n",
        "plt.title(\"Elbow Method for Optimal k in K-Means\")\n",
        "plt.xticks(k_values)\n",
        "plt.grid(True)\n",
        "plt.legend()\n",
        "plt.show()"
      ],
      "metadata": {
        "colab": {
          "base_uri": "https://localhost:8080/",
          "height": 537,
          "referenced_widgets": [
            "5f85b21cfb8543698e5f434a5cd70223",
            "9b20438ffb9b41998b7e77c646fddc33",
            "781cd07c29834f6dacf93261d8b00199",
            "bd57170130374b889c29140f2651a532",
            "e5f9048e444d4c778ef4ac6ce97bf275",
            "91b1216d105a4c64871ceb2bcc80ccf5",
            "d6ccf8ba14ec420ea2356bc8346c1e0d",
            "138395c45236485da93d20f568971630",
            "dd4dee2f29e54272804a9c8fad8b7318",
            "e299d918f0024ec2ac76ead75c6d2c92",
            "0893c37563bb4fa5846f3966b7e5384d"
          ]
        },
        "id": "ho3qE0wGBDqy",
        "outputId": "d7ef992c-23aa-4855-94b4-9dfda0b5058c"
      },
      "execution_count": 82,
      "outputs": [
        {
          "output_type": "display_data",
          "data": {
            "text/plain": [
              "  0%|          | 0/10 [00:00<?, ?it/s]"
            ],
            "application/vnd.jupyter.widget-view+json": {
              "version_major": 2,
              "version_minor": 0,
              "model_id": "5f85b21cfb8543698e5f434a5cd70223"
            }
          },
          "metadata": {}
        },
        {
          "output_type": "stream",
          "name": "stdout",
          "text": [
            "Optimal k found at: 2\n"
          ]
        },
        {
          "output_type": "display_data",
          "data": {
            "text/plain": [
              "<Figure size 800x500 with 1 Axes>"
            ],
            "image/png": "[encoded data removed]"
          },
          "metadata": {}
        }
      ]
    },
    {
      "cell_type": "markdown",
      "source": [
        "# Conclusion\n",
        "\n",
        "We explored the **K-Means clustering algorithm**, an **unsupervised machine learning technique** used to partition data into **K clusters** by minimizing intra-cluster variance. The algorithm iteratively refines cluster assignments until convergence.\n",
        "\n",
        "Key components of K-Means:\n",
        "- **Centroid Initialization**: Initial cluster centers are selected randomly.\n",
        "- **Cluster Assignment**: Each data point is assigned to the nearest centroid.\n",
        "- **Centroid Update**: The centroids are recalculated as the mean of assigned points.\n",
        "- **Iteration Until Convergence**: The process repeats until centroids stabilize.\n",
        "\n",
        "To determine the nearest centroids, we implemented and analyzed multiple **distance functions**:\n",
        "- **Euclidean Distance**: Measures straight-line distance, widely used in K-Means.\n",
        "- **Manhattan Distance**: Uses absolute differences, robust to outliers.\n",
        "- **Cosine Similarity**: Measures the angle between vectors, useful for text clustering.\n",
        "- **Jaccard Similarity**: Evaluates set-based similarity, ideal for binary/categorical data.\n",
        "- **Minkowski Distance**: Generalization of Euclidean and Manhattan distances.\n",
        "- **Mahalanobis Distance**: Adjusts for correlated features.\n",
        "- **Hamming Distance**: Measures differences in categorical/binary data.\n",
        "\n",
        "What we learned:\n",
        "- **K-Means minimizes the distortion function** to optimize cluster quality.\n",
        "- **Different distance metrics affect clustering results**, and Euclidean distance is the most common for K-Means.\n",
        "- **K-Means does not inherently learn class labels**, requiring a post-processing step for evaluation.\n",
        "- **Visualizing clusters and misclassifications** helps in understanding K-Means behavior.\n",
        "- **Choosing the correct `K` is crucial** for effective clustering and can be determined using the Elbow Method.\n"
      ],
      "metadata": {
        "id": "A07GsU60DGe3"
      }
    }
  ]
}